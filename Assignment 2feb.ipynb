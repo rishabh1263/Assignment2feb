{
 "cells": [
  {
   "cell_type": "markdown",
   "id": "01a0e93e",
   "metadata": {},
   "source": [
    "Q1:Explain with an example each when to use a for loop and a while loop.\n",
    "Ans:1)Use a for loop to iterate over an array.\n",
    "2)Use a for loop when you know the loop should execute n times.\n",
    "3)Use a while loop for reading a file into a variable.\n",
    "4)Use a while loop when asking for user input.\n",
    "5)Use a while loop when the increment value is nonstandard.\n"
   ]
  },
  {
   "cell_type": "code",
   "execution_count": 1,
   "id": "b5c679fa",
   "metadata": {},
   "outputs": [
    {
     "name": "stdout",
     "output_type": "stream",
     "text": [
      "1\n",
      "2\n",
      "3\n",
      "4\n",
      "5\n",
      "6\n",
      "7\n",
      "8\n",
      "9\n",
      "10\n"
     ]
    },
    {
     "data": {
      "text/plain": [
       "3628800"
      ]
     },
     "execution_count": 1,
     "metadata": {},
     "output_type": "execute_result"
    }
   ],
   "source": [
    "##Q2 : Using for loop\n",
    "sum =0\n",
    "product = 1\n",
    "for i in range(1,11):\n",
    "    print(i)\n",
    "    sum = sum+i\n",
    "    product = product*i\n",
    "sum\n",
    "product"
   ]
  },
  {
   "cell_type": "code",
   "execution_count": 5,
   "id": "63c212c2",
   "metadata": {},
   "outputs": [
    {
     "name": "stdout",
     "output_type": "stream",
     "text": [
      "Enter the number you want:10\n"
     ]
    },
    {
     "data": {
      "text/plain": [
       "3628800"
      ]
     },
     "execution_count": 5,
     "metadata": {},
     "output_type": "execute_result"
    }
   ],
   "source": [
    "##Q2: Using while loop\n",
    "n = int(input(\"Enter the number you want:\"))\n",
    "product = 1\n",
    "sum = 0\n",
    "i = 1\n",
    "while i<=n:\n",
    "    sum = sum+i\n",
    "    product = product *i\n",
    "    i = i+1\n",
    "sum\n",
    "product"
   ]
  },
  {
   "cell_type": "code",
   "execution_count": 14,
   "id": "ab3ff034",
   "metadata": {},
   "outputs": [
    {
     "name": "stdout",
     "output_type": "stream",
     "text": [
      "Enter the unit of electricity consumed in a month:45\n",
      "202.5\n"
     ]
    }
   ],
   "source": [
    "##Q3 :\n",
    "units = int(input(\"Enter the unit of electricity consumed in a month:\"))\n",
    "bill_amount = 0\n",
    "if units <=100:\n",
    "    bill = units*4.5\n",
    "elif units<=200:\n",
    "    bill = 100*4.5 +(units-100)*6\n",
    "elif units<=300:\n",
    "    bill = 100*4.5 +100*6+('units'-200)*10\n",
    "else:\n",
    "    bill = 100*4.5 + 100*6+100*10+(units-300)*20\n",
    "print(bill)"
   ]
  },
  {
   "cell_type": "code",
   "execution_count": 1,
   "id": "d1bf12d3",
   "metadata": {},
   "outputs": [
    {
     "name": "stdout",
     "output_type": "stream",
     "text": [
      "Numbers (for loop): [2, 4, 5, 6, 8, 10, 12, 14, 15, 16, 18, 20, 22, 24, 25, 26, 28, 30, 32, 34, 35, 36, 38, 40, 42, 44, 45, 46, 48, 50, 52, 54, 55, 56, 58, 60, 62, 64, 65, 66, 68, 70, 72, 74, 75, 76, 78, 80, 82, 84, 85, 86, 88, 90, 92, 94, 95, 96, 98, 100]\n"
     ]
    }
   ],
   "source": [
    "##Q4:\n",
    "l = []\n",
    "for i in range(1, 101):\n",
    "    cube = i*i*i\n",
    "    if cube %4 == 0 or cube % 5 == 0:\n",
    "        l.append(i)\n",
    "print(\"Numbers (for loop):\", l)\n",
    "\n"
   ]
  },
  {
   "cell_type": "code",
   "execution_count": null,
   "id": "02633c83",
   "metadata": {},
   "outputs": [],
   "source": [
    "##Q4 : Using while loop\n",
    "l = []\n",
    "i = 1\n",
    "while i <= 100:\n",
    "    cube = i**3\n",
    "    if cube % 4 == 0 or cube % 5 == 0:\n",
    "        numbers.append(i)\n",
    "    i = i=+i\n",
    "print(l)\n",
    "\n",
    "    \n",
    "    \n"
   ]
  },
  {
   "cell_type": "code",
   "execution_count": null,
   "id": "e4af1b72",
   "metadata": {},
   "outputs": [],
   "source": [
    "##Q5: Using for loop\n",
    "str = \"I want to become a data scientist\"\n",
    "str_lower = str.lower()\n",
    "vowels = \"aeiou\"\n",
    "count = 0\n",
    "for i in str_lower:\n",
    "    if i in vowels:\n",
    "        count = count+1\n",
    "print(\"count of vowels \",count)\n",
    "\n"
   ]
  },
  {
   "cell_type": "code",
   "execution_count": null,
   "id": "c93d6845",
   "metadata": {},
   "outputs": [],
   "source": []
  }
 ],
 "metadata": {
  "kernelspec": {
   "display_name": "Python 3 (ipykernel)",
   "language": "python",
   "name": "python3"
  },
  "language_info": {
   "codemirror_mode": {
    "name": "ipython",
    "version": 3
   },
   "file_extension": ".py",
   "mimetype": "text/x-python",
   "name": "python",
   "nbconvert_exporter": "python",
   "pygments_lexer": "ipython3",
   "version": "3.9.13"
  }
 },
 "nbformat": 4,
 "nbformat_minor": 5
}
